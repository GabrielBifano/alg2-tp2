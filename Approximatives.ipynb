{
  "cells": [
    {
      "cell_type": "code",
      "execution_count": 10,
      "metadata": {
        "id": "IGnPVQ4XapgL"
      },
      "outputs": [],
      "source": [
        "from google.colab import drive\n",
        "import numpy as np\n",
        "from math import sqrt\n",
        "import random\n",
        "import networkx as nx\n",
        "from scipy.spatial import distance\n",
        "from scipy.optimize import linear_sum_assignment\n",
        "import matplotlib.pyplot as plt"
      ]
    },
    {
      "cell_type": "code",
      "execution_count": null,
      "metadata": {
        "colab": {
          "base_uri": "https://localhost:8080/"
        },
        "id": "HlSsLhz_3rt0",
        "outputId": "e756b8dd-ad0c-4081-bd4c-d8f56debf205"
      },
      "outputs": [],
      "source": [
        "drive.mount('/content/drive')"
      ]
    },
    {
      "cell_type": "markdown",
      "metadata": {
        "id": "-xnedMDky9uK"
      },
      "source": [
        "## **Reading data from TSPLib files**"
      ]
    },
    {
      "cell_type": "code",
      "execution_count": 12,
      "metadata": {
        "id": "RQQsodNCz95K"
      },
      "outputs": [],
      "source": [
        "class Line:\n",
        "    def __init__(self, lines):\n",
        "        self.lines = iter(lines)\n",
        "        self.current = next(self.lines)\n",
        "    def __next__(self):\n",
        "        self.current = next(self.lines)\n",
        "        return self.current\n",
        "    def __iter__(self):\n",
        "        return self"
      ]
    },
    {
      "cell_type": "code",
      "execution_count": 13,
      "metadata": {
        "id": "Q_7DwqG3K28j"
      },
      "outputs": [],
      "source": [
        "class LoadSample:\n",
        "\n",
        "    props = [\"DIMENSION\"]\n",
        "\n",
        "    def __init__(self):\n",
        "        self.coords = []\n",
        "        self.weights = None\n",
        "        self.lines = None\n",
        "\n",
        "    def load(self, file):\n",
        "        with open(file, 'r') as f:\n",
        "            self.lines = Line(f.read().splitlines())\n",
        "        self.select()\n",
        "\n",
        "    def select(self):\n",
        "        self.specification = {}\n",
        "        while True:\n",
        "            line = self.lines.current\n",
        "            if ':' in line:\n",
        "                self.specification.update(self.read_spec())\n",
        "            elif line.startswith('NODE_COORD_SECTION'):\n",
        "                next(self.lines)\n",
        "                self.coords = self.read_coords()\n",
        "            else:\n",
        "                break\n",
        "        del self.lines\n",
        "\n",
        "    def read_spec(self):\n",
        "        key, value = self.lines.current.split(':', 1)\n",
        "        key, value = key.strip(), value.strip()\n",
        "        value = int(value) if key in self.props else value\n",
        "        next(self.lines)\n",
        "        return {key: value}\n",
        "\n",
        "    def read_coords(self):\n",
        "        coords = []\n",
        "        while True:\n",
        "            try:\n",
        "                _, x, y = self.lines.current.split()\n",
        "                coords.append((float(x), float(y)))\n",
        "            except ValueError:\n",
        "                break\n",
        "\n",
        "            try:\n",
        "                next(self.lines)\n",
        "            except StopIteration:\n",
        "                break\n",
        "        return coords"
      ]
    },
    {
      "cell_type": "code",
      "execution_count": 14,
      "metadata": {
        "id": "K40qfrWv2UqK"
      },
      "outputs": [],
      "source": [
        "def plot_graph(G):\n",
        "  pos = nx.spring_layout(G)\n",
        "  nx.draw(\n",
        "      G,\n",
        "      pos, with_labels=True,\n",
        "      font_weight='bold',\n",
        "      node_color='lightblue',\n",
        "      font_color='black',\n",
        "      font_size=10,\n",
        "      node_size=700,\n",
        "      edge_color='gray',\n",
        "      width=1\n",
        "  )\n",
        "\n",
        "  nx.draw_networkx_edges(G, pos, edgelist=G.edges(), edge_color='blue', width=2)\n",
        "  plt.show()"
      ]
    },
    {
      "cell_type": "markdown",
      "metadata": {
        "id": "aNUvm-S4yG5Q"
      },
      "source": [
        "## **Loading coordinates or weights to memory**"
      ]
    },
    {
      "cell_type": "code",
      "execution_count": 15,
      "metadata": {
        "id": "2zjiHFOxpHDu"
      },
      "outputs": [],
      "source": [
        "def euclidean_distance(p1, p2):\n",
        "    return distance.euclidean(p1, p2)"
      ]
    },
    {
      "cell_type": "code",
      "execution_count": 16,
      "metadata": {
        "id": "rqIE_as6t8gy"
      },
      "outputs": [],
      "source": [
        "def graph_with_coords(loader):\n",
        "\n",
        "  dim = loader.specification['DIMENSION']\n",
        "  weights = np.full((dim, dim), -1)\n",
        "  np.fill_diagonal(weights, 0)\n",
        "\n",
        "  G = nx.Graph()\n",
        "\n",
        "  n = 0\n",
        "  for coord in loader.coords:\n",
        "    G.add_node(n, pos=coord)\n",
        "    n += 1\n",
        "\n",
        "  for i in range(0, dim):\n",
        "    for j in range(0, dim):\n",
        "      weights[i][j] = euclidean_distance(G.nodes[i]['pos'], G.nodes[j]['pos'])\n",
        "      G.add_edge(i, j, weight=weights[i][j])\n",
        "\n",
        "  return (G, weights)"
      ]
    },
    {
      "cell_type": "code",
      "execution_count": 17,
      "metadata": {
        "id": "QArGsqdTtX0U"
      },
      "outputs": [],
      "source": [
        "def graph_with_weights(loader):\n",
        "\n",
        "  dim = loader.specification['DIMENSION']\n",
        "  weights = np.array(loader.weights)\n",
        "  weights = weights + weights.T - np.diag(weights.diagonal())\n",
        "\n",
        "  G = nx.Graph()\n",
        "  G.add_nodes_from(range(0, dim))\n",
        "\n",
        "  for i in range(0, dim):\n",
        "    for j in range(0, dim):\n",
        "      G.add_edge(i, j, weight=weights[i][j])\n",
        "\n",
        "  return (G, weights)"
      ]
    },
    {
      "cell_type": "markdown",
      "metadata": {
        "id": "OkDGGT-hyRmZ"
      },
      "source": [
        "## **Approximative Travelling Salesman Problem Tour**"
      ]
    },
    {
      "cell_type": "code",
      "execution_count": 18,
      "metadata": {
        "id": "a_84wECzbw_r"
      },
      "outputs": [],
      "source": [
        "def dfs(adj, start_node):\n",
        "    stack = [start_node]\n",
        "    visited = set()\n",
        "    H = []\n",
        "\n",
        "    while stack:\n",
        "        node = stack.pop()\n",
        "        if node not in visited:\n",
        "            visited.add(node)\n",
        "            H.append(node)\n",
        "            stack.extend(neighbor for neighbor in adj[node] if neighbor not in visited)\n",
        "\n",
        "    return H"
      ]
    },
    {
      "cell_type": "code",
      "execution_count": 19,
      "metadata": {
        "id": "lSw2d7QnIPWX"
      },
      "outputs": [],
      "source": [
        "def hamiltonian_cycle_with_weights(H, weights):\n",
        "\n",
        "  path = 0\n",
        "  for i in range(len(H) - 1):\n",
        "    j = i + 1\n",
        "    path += weights[H[i]][H[j]]\n",
        "  path += weights[H[-1], H[0]]\n",
        "  return path\n"
      ]
    },
    {
      "cell_type": "code",
      "execution_count": 20,
      "metadata": {
        "id": "79WgcdSIdW1T"
      },
      "outputs": [],
      "source": [
        "def approx_tsp_tour(loader, is_gr):\n",
        "\n",
        "  G = None\n",
        "  weights = None\n",
        "  if is_gr: G, weights = graph_with_weights(loader)   # Loading graph\n",
        "  else: G, weights = graph_with_coords(loader)\n",
        "\n",
        "  G = nx.minimum_spanning_tree(G)                     # MST\n",
        "  adj_list = nx.to_dict_of_lists(G)                   # MST adjacency list\n",
        "\n",
        "  H = dfs(adj_list, 0)                                # Get hamiltonian cycle\n",
        "\n",
        "  length = hamiltonian_cycle_with_weights(H, weights) # Traverse HC\n",
        "  return int(length)"
      ]
    },
    {
      "cell_type": "code",
      "execution_count": 21,
      "metadata": {
        "id": "jItFkQN4K4U0"
      },
      "outputs": [],
      "source": [
        "def call_tour(path):\n",
        "\n",
        "  loader = LoadSample()\n",
        "  loader.load(path)\n",
        "\n",
        "  val = None\n",
        "  if 'gr17' in path or 'gr21' in path:\n",
        "    val = approx_tsp_tour(loader, True)\n",
        "  else:\n",
        "    val = approx_tsp_tour(loader, False)\n",
        "  return val"
      ]
    },
    {
      "cell_type": "markdown",
      "metadata": {
        "id": "G_yGemmoy2R_"
      },
      "source": [
        "## **Christofides Algorithm**"
      ]
    },
    {
      "cell_type": "code",
      "execution_count": null,
      "metadata": {
        "id": "MwQ72Is-vSth"
      },
      "outputs": [],
      "source": [
        "class UnionFind:\n",
        "    def __init__(self):\n",
        "        self.weights = {}\n",
        "        self.ancestors = {}\n",
        "\n",
        "    def union(self, *nodes):\n",
        "        roots = [self[x] for x in nodes]\n",
        "        max_weighted = max([(self.weights[r], r) for r in roots])[1]\n",
        "        for r in roots:\n",
        "            if r != max_weighted:\n",
        "                self.weights[max_weighted] += self.weights[r]\n",
        "                self.ancestors[r] = max_weighted\n",
        "\n",
        "    def __iter__(self):\n",
        "        return iter(self.ancestors)\n",
        "\n",
        "    def __getitem__(self, node):\n",
        "        if node not in self.ancestors:\n",
        "            self.ancestors[node] = node\n",
        "            self.weights[node] = 1\n",
        "            return node\n",
        "        path = [node]\n",
        "        root = self.ancestors[node]\n",
        "        while root != path[-1]:\n",
        "            path.append(root)\n",
        "            root = self.ancestors[root]\n",
        "        for ancestor in path:\n",
        "            self.ancestors[ancestor] = root\n",
        "        return root"
      ]
    },
    {
      "cell_type": "code",
      "execution_count": 23,
      "metadata": {
        "id": "4b3LZYIyvVn4"
      },
      "outputs": [],
      "source": [
        "def fill_weights(data):\n",
        "    graph = {}\n",
        "    for p1 in range(len(data)):\n",
        "        for p2 in range(len(data)):\n",
        "            if p1 != p2:\n",
        "                if p1 not in graph:\n",
        "                    graph[p1] = {}\n",
        "                graph[p1][p2] = euclidean_distance(data[p1], data[p2])\n",
        "    return graph"
      ]
    },
    {
      "cell_type": "code",
      "execution_count": 24,
      "metadata": {
        "id": "wlJziWG8vyU-"
      },
      "outputs": [],
      "source": [
        "def minimum_spanning_tree(G):\n",
        "    tree = []\n",
        "    subtrees = UnionFind()\n",
        "    for W, u, v in sorted((G[u][v], u, v) for u in G for v in G[u]):\n",
        "        if subtrees[u] != subtrees[v]:\n",
        "            tree.append((u, v, W))\n",
        "            subtrees.union(u, v)\n",
        "    return tree"
      ]
    },
    {
      "cell_type": "code",
      "execution_count": 25,
      "metadata": {
        "id": "Z6pB8Ew-v0J_"
      },
      "outputs": [],
      "source": [
        "def odd_subgraph(T):\n",
        "    tmp_g = {}\n",
        "    I = []\n",
        "    for edge in T:\n",
        "        if edge[0] not in tmp_g:\n",
        "            tmp_g[edge[0]] = 0\n",
        "\n",
        "        if edge[1] not in tmp_g:\n",
        "            tmp_g[edge[1]] = 0\n",
        "\n",
        "        tmp_g[edge[0]] += 1\n",
        "        tmp_g[edge[1]] += 1\n",
        "\n",
        "    for vertex in tmp_g:\n",
        "        if tmp_g[vertex] % 2 == 1:\n",
        "            I.append(vertex)\n",
        "\n",
        "    return I"
      ]
    },
    {
      "cell_type": "code",
      "execution_count": 26,
      "metadata": {
        "id": "BmHiQ45-v2ce"
      },
      "outputs": [],
      "source": [
        "def minimum_weight_matching(T, G, odds):\n",
        "    random.shuffle(odds)\n",
        "    while odds:\n",
        "        length = float(\"inf\")\n",
        "        u = 1\n",
        "        v = odds.pop()\n",
        "        closest = 0\n",
        "        for u in odds:\n",
        "            if v != u and G[v][u] < length:\n",
        "                length = G[v][u]\n",
        "                closest = u\n",
        "        T.append((v, closest, length))\n",
        "        odds.remove(closest)"
      ]
    },
    {
      "cell_type": "code",
      "execution_count": 27,
      "metadata": {
        "id": "FXYi9gudopJs"
      },
      "outputs": [],
      "source": [
        "def take_edge_out(T, v1, v2):\n",
        "    for i, node in enumerate(T):\n",
        "        if (node[0] == v2 and node[1] == v1) or (node[0] == v1 and node[1] == v2):\n",
        "            del T[i] # delete edge\n",
        "    return T"
      ]
    },
    {
      "cell_type": "code",
      "execution_count": 28,
      "metadata": {
        "id": "8wrRRRtY8beO"
      },
      "outputs": [],
      "source": [
        "def create_neighbours_dict(G):\n",
        "    neighbours = {}\n",
        "    for edge in G:\n",
        "        if edge[0] not in neighbours:\n",
        "            neighbours[edge[0]] = []\n",
        "        if edge[1] not in neighbours:\n",
        "            neighbours[edge[1]] = []\n",
        "        neighbours[edge[0]].append(edge[1])\n",
        "        neighbours[edge[1]].append(edge[0])\n",
        "    return neighbours"
      ]
    },
    {
      "cell_type": "code",
      "execution_count": 29,
      "metadata": {
        "id": "r8J8lRW_v4YR"
      },
      "outputs": [],
      "source": [
        "def eulerian_path(T, G):\n",
        "\n",
        "    root = T[0][0] # root node\n",
        "    neighbours = create_neighbours_dict(T) # create neighbours structure\n",
        "    path = [neighbours[root][0]] # add root neighbours to path\n",
        "\n",
        "    while len(T) > 0:\n",
        "        for i, v in enumerate(path):\n",
        "            if len(neighbours[v]) > 0:\n",
        "                break\n",
        "        while len(neighbours[v]) > 0:\n",
        "            w = neighbours[v][0]\n",
        "            take_edge_out(T, v, w)\n",
        "            del neighbours[w][(neighbours[w].index(v))]\n",
        "            del neighbours[v][(neighbours[v].index(w))]\n",
        "            i += 1\n",
        "            path.insert(i, w)\n",
        "            v = w\n",
        "\n",
        "    return path"
      ]
    },
    {
      "cell_type": "code",
      "execution_count": 30,
      "metadata": {
        "id": "YBcivKPWG72u"
      },
      "outputs": [],
      "source": [
        "def traverse_graph(G, path):\n",
        "    current = path[0]\n",
        "    visited = set()\n",
        "    visited.add(current)\n",
        "    length = 0\n",
        "    for v in path:\n",
        "        if v not in visited:\n",
        "            visited.add(v)\n",
        "            length += G[current][v]\n",
        "            current = v\n",
        "\n",
        "    length += G[current][path[0]]\n",
        "    return length"
      ]
    },
    {
      "cell_type": "code",
      "execution_count": 31,
      "metadata": {
        "id": "bsiMhAYpunlp"
      },
      "outputs": [],
      "source": [
        "# Eu queria ter feito usando NetworkX porém alguma\n",
        "# coisa na hora de fazer o match perfeito mínimo\n",
        "# estava dando errado, e o grafo não possuia um ciclo\n",
        "# Euleriano no final : (\n",
        "\n",
        "def christofides(nodes):\n",
        "\n",
        "    G = fill_weights(nodes)               # Get distances\n",
        "    T = minimum_spanning_tree(G)          # MST\n",
        "    I = odd_subgraph(T)                   # I subgraph\n",
        "    minimum_weight_matching(T, G, I)      # Minimum Perfect Match\n",
        "    path = eulerian_path(T, G)            # Euler rolezinho\n",
        "\n",
        "    length = traverse_graph(G, path)      # Twice Around\n",
        "    return int(length)"
      ]
    },
    {
      "cell_type": "code",
      "execution_count": 32,
      "metadata": {
        "id": "cNtYSPj_o9MI"
      },
      "outputs": [],
      "source": [
        "def call_chris(path):\n",
        "\n",
        "  loader = LoadSample()\n",
        "  loader.load(path)\n",
        "\n",
        "  if 'gr17' not in path or 'gr21' not in path:\n",
        "    return christofides(loader.coords)\n"
      ]
    },
    {
      "cell_type": "markdown",
      "metadata": {
        "id": "kLx4pz6EVr6o"
      },
      "source": [
        "### Paths declaration"
      ]
    },
    {
      "cell_type": "code",
      "execution_count": 33,
      "metadata": {
        "id": "9RqijQ4fVp7B"
      },
      "outputs": [],
      "source": [
        "a280 = \"/content/drive/MyDrive/Alg II/a280.tsp\"\n",
        "berlin52 = \"/content/drive/MyDrive/Alg II/berlin52.tsp\"\n",
        "bier127 = \"/content/drive/MyDrive/Alg II/bier127.tsp\"\n",
        "brd14051 = \"/content/drive/MyDrive/Alg II/brd14051.tsp\"\n",
        "ch130 = \"/content/drive/MyDrive/Alg II/ch130.tsp\"\n",
        "ch150 = \"/content/drive/MyDrive/Alg II/ch150.tsp\"\n",
        "d1291 = \"/content/drive/MyDrive/Alg II/d1291.tsp\"\n",
        "d15112 = \"/content/drive/MyDrive/Alg II/d15112.tsp\"\n",
        "d1655 = \"/content/drive/MyDrive/Alg II/d1655.tsp\"\n",
        "d18512 = \"/content/drive/MyDrive/Alg II/d18512.tsp\"\n",
        "d198 = \"/content/drive/MyDrive/Alg II/d198.tsp\"\n",
        "d2103 = \"/content/drive/MyDrive/Alg II/d2103.tsp\"\n",
        "d493 = \"/content/drive/MyDrive/Alg II/d493.tsp\"\n",
        "d657 = \"/content/drive/MyDrive/Alg II/d657.tsp\"\n",
        "eil101 = \"/content/drive/MyDrive/Alg II/eil101.tsp\"\n",
        "eil51 = \"/content/drive/MyDrive/Alg II/eil51.tsp\"\n",
        "eil76 = \"/content/drive/MyDrive/Alg II/eil76.tsp\"\n",
        "fl1400 = \"/content/drive/MyDrive/Alg II/fl1400.tsp\"\n",
        "fl1577 = \"/content/drive/MyDrive/Alg II/fl1577.tsp\"\n",
        "fl3795 = \"/content/drive/MyDrive/Alg II/fl3795.tsp\"\n",
        "fl417 = \"/content/drive/MyDrive/Alg II/fl417.tsp\"\n",
        "fnl4461 = \"/content/drive/MyDrive/Alg II/fnl4461.tsp\"\n",
        "gil262 = \"/content/drive/MyDrive/Alg II/gil262.tsp\"\n",
        "kroA100 = \"/content/drive/MyDrive/Alg II/kroA100.tsp\"\n",
        "kroA150 = \"/content/drive/MyDrive/Alg II/kroA150.tsp\"\n",
        "kroA200 = \"/content/drive/MyDrive/Alg II/kroA200.tsp\"\n",
        "kroB100 = \"/content/drive/MyDrive/Alg II/kroB100.tsp\"\n",
        "kroB150 = \"/content/drive/MyDrive/Alg II/kroB150.tsp\"\n",
        "kroB200 = \"/content/drive/MyDrive/Alg II/kroB200.tsp\"\n",
        "kroC100 = \"/content/drive/MyDrive/Alg II/kroC100.tsp\"\n",
        "kroD100 = \"/content/drive/MyDrive/Alg II/kroD100.tsp\"\n",
        "kroE100 = \"/content/drive/MyDrive/Alg II/kroE100.tsp\"\n",
        "lin105 = \"/content/drive/MyDrive/Alg II/lin105.tsp\"\n",
        "lin318 = \"/content/drive/MyDrive/Alg II/lin318.tsp\"\n",
        "linhp318 = \"/content/drive/MyDrive/Alg II/linhp318.tsp\"\n",
        "nrw1379 = \"/content/drive/MyDrive/Alg II/nrw1379.tsp\"\n",
        "p654 = \"/content/drive/MyDrive/Alg II/p654.tsp\"\n",
        "pcb1173 = \"/content/drive/MyDrive/Alg II/pcb1173.tsp\"\n",
        "pcb3038 = \"/content/drive/MyDrive/Alg II/pcb3038.tsp\"\n",
        "pcb442 = \"/content/drive/MyDrive/Alg II/pcb442.tsp\"\n",
        "pr1002 = \"/content/drive/MyDrive/Alg II/pr1002.tsp\"\n",
        "pr107 = \"/content/drive/MyDrive/Alg II/pr107.tsp\"\n",
        "pr124 = \"/content/drive/MyDrive/Alg II/pr124.tsp\"\n",
        "pr136 = \"/content/drive/MyDrive/Alg II/pr136.tsp\"\n",
        "pr144 = \"/content/drive/MyDrive/Alg II/pr144.tsp\"\n",
        "pr152 = \"/content/drive/MyDrive/Alg II/pr152.tsp\"\n",
        "pr226 = \"/content/drive/MyDrive/Alg II/pr226.tsp\"\n",
        "pr2392 = \"/content/drive/MyDrive/Alg II/pr2392.tsp\"\n",
        "pr264 = \"/content/drive/MyDrive/Alg II/pr264.tsp\"\n",
        "pr299 = \"/content/drive/MyDrive/Alg II/pr299.tsp\"\n",
        "pr439 = \"/content/drive/MyDrive/Alg II/pr439.tsp\"\n",
        "pr76 = \"/content/drive/MyDrive/Alg II/pr76.tsp\"\n",
        "rat195 = \"/content/drive/MyDrive/Alg II/rat195.tsp\"\n",
        "rat575 = \"/content/drive/MyDrive/Alg II/rat575.tsp\"\n",
        "rat783 = \"/content/drive/MyDrive/Alg II/rat783.tsp\"\n",
        "rat99 = \"/content/drive/MyDrive/Alg II/rat99.tsp\"\n",
        "rd100 = \"/content/drive/MyDrive/Alg II/rd100.tsp\"\n",
        "rd400 = \"/content/drive/MyDrive/Alg II/rd400.tsp\"\n",
        "rl11849 = \"/content/drive/MyDrive/Alg II/rl11849.tsp\"\n",
        "rl1304 = \"/content/drive/MyDrive/Alg II/rl1304.tsp\"\n",
        "rl1323 = \"/content/drive/MyDrive/Alg II/rl1323.tsp\"\n",
        "rl1889 = \"/content/drive/MyDrive/Alg II/rl1889.tsp\"\n",
        "rl5915 = \"/content/drive/MyDrive/Alg II/rl5915.tsp\"\n",
        "rl5934 = \"/content/drive/MyDrive/Alg II/rl5934.tsp\"\n",
        "st70 = \"/content/drive/MyDrive/Alg II/st70.tsp\"\n",
        "ts225 = \"/content/drive/MyDrive/Alg II/ts225.tsp\"\n",
        "tsp225 = \"/content/drive/MyDrive/Alg II/tsp225.tsp\"\n",
        "u1060 = \"/content/drive/MyDrive/Alg II/u1060.tsp\"\n",
        "u1432 = \"/content/drive/MyDrive/Alg II/u1432.tsp\"\n",
        "u159 = \"/content/drive/MyDrive/Alg II/u159.tsp\"\n",
        "u1817 = \"/content/drive/MyDrive/Alg II/u1817.tsp\"\n",
        "u2152 = \"/content/drive/MyDrive/Alg II/u2152.tsp\"\n",
        "u2319 = \"/content/drive/MyDrive/Alg II/u2319.tsp\"\n",
        "u574 = \"/content/drive/MyDrive/Alg II/u574.tsp\"\n",
        "u724 = \"/content/drive/MyDrive/Alg II/u724.tsp\"\n",
        "usa13509 = \"/content/drive/MyDrive/Alg II/usa13509.tsp\"\n",
        "vm1084 = \"/content/drive/MyDrive/Alg II/vm1084.tsp\"\n",
        "vm1748 = \"/content/drive/MyDrive/Alg II/vm1748.tsp\""
      ]
    },
    {
      "cell_type": "code",
      "execution_count": 34,
      "metadata": {
        "id": "bxvxil11YsrO"
      },
      "outputs": [],
      "source": [
        "tsp_files = [\n",
        "             (eil51, 426),\n",
        "             (berlin52, 7542),\n",
        "             (st70, 675),\n",
        "             (eil76, 538),\n",
        "             (pr76, 108159),\n",
        "             (rat99, 1211),\n",
        "             (kroA100, 21282),\n",
        "             (kroB100, 22141),\n",
        "             (kroC100, 20749),\n",
        "             (kroD100, 21294),\n",
        "             (kroE100, 22068),\n",
        "             (rd100, 7910),\n",
        "             (eil101, 629),\n",
        "             (lin105, 14379),\n",
        "             (pr107, 44303),\n",
        "             (pr124, 59030),\n",
        "             (bier127, 118282),\n",
        "             (ch130, 6110),\n",
        "             (pr136, 96772),\n",
        "             (pr144, 58537),\n",
        "             (ch150, 6528),\n",
        "             (kroA150, 26524),\n",
        "             (kroB150, 26130),\n",
        "             (pr152, 73682),\n",
        "             (u159, 42080),\n",
        "             (rat195, 2323),\n",
        "             (d198, 15780),\n",
        "             (kroA200, 29368),\n",
        "             (kroB200, 29437),\n",
        "             (ts225, 126643),\n",
        "             (tsp225, 3919),\n",
        "             (pr226, 80369),\n",
        "             (gil262, 2378),\n",
        "             (pr264, 49135),\n",
        "             (a280, 2579),\n",
        "             (pr299, 48191),\n",
        "             (lin318, 42029),\n",
        "             (rd400, 15281),\n",
        "             (fl417, 11861),\n",
        "             (pr439, 107217),\n",
        "             (pcb442, 50778),\n",
        "             (d493, 35002),\n",
        "             (u574, 36905),\n",
        "             (rat575, 6773),\n",
        "             (p654, 34643),\n",
        "             (d657, 48912),\n",
        "             (u724, 41910),\n",
        "             (rat783, 8806),\n",
        "             (pr1002, 259045),\n",
        "             (u1060, 224094),\n",
        "             (vm1084, 239297),\n",
        "             (pcb1173, 56892),\n",
        "             (d1291, 50801),\n",
        "             (rl1304, 252948),\n",
        "             (rl1323, 270199),\n",
        "             (nrw1379, 56638),\n",
        "             (fl1400, 20127),\n",
        "             (u1432, 152970),\n",
        "             (fl1577, 22249),\n",
        "             (d1655, 62128),\n",
        "             (vm1748, 336556),\n",
        "             (u1817, 57201),\n",
        "             (rl1889, 316536),\n",
        "             (d2103, 80450),\n",
        "             (u2152, 64253),\n",
        "             (u2319, 234256),\n",
        "             (pr2392, 378032),\n",
        "             (pcb3038, 137694),\n",
        "             (fl3795, 28772),\n",
        "             (fnl4461, 182566),\n",
        "             (rl5915, 565530),\n",
        "             (rl5934, 556045),\n",
        "             (rl11849, 923368),\n",
        "             (usa13509, 19982889),\n",
        "             (brd14051, 469445),\n",
        "             (d15112, 1573152),\n",
        "             (d18512, 645488)\n",
        "             ]"
      ]
    },
    {
      "cell_type": "markdown",
      "metadata": {
        "id": "M78GlvtwEjGT"
      },
      "source": [
        "## **Asserting Results**\n"
      ]
    },
    {
      "cell_type": "code",
      "execution_count": null,
      "metadata": {
        "id": "8YCKVs-0EiB7"
      },
      "outputs": [],
      "source": [
        "# Approximate Tour\n",
        "for path, opt in tsp_files:\n",
        "\n",
        "  print(path)\n",
        "  length = call_tour(path)\n",
        "\n",
        "  status = \"\"\n",
        "  if length / 2 <= opt:\n",
        "    status = \"worked as planned\"\n",
        "  else:\n",
        "    status = \"did not worked as planned\"\n",
        "\n",
        "  output = f\"FOR:  {path}   :   {length}\\nThus the Approx Tour algorithm {status}\\n\"\n",
        "  # with open(\"/content/drive/MyDrive/Alg II/results.txt\", 'a') as file:\n",
        "  #   file.write(output + '\\n')"
      ]
    },
    {
      "cell_type": "code",
      "execution_count": null,
      "metadata": {
        "id": "tQ_uJt90psAE"
      },
      "outputs": [],
      "source": [
        "# Christofides\n",
        "for path, opt in tsp_files:\n",
        "\n",
        "  print(path)\n",
        "  length = call_chris(path)\n",
        "\n",
        "  status = \"\"\n",
        "  if length / 1.5 <= opt:\n",
        "    status = \"worked as planned\"\n",
        "  else:\n",
        "    status = \"did not worked as planned\"\n",
        "\n",
        "  output = f\"FOR:  {path}   :   {length}\\nThus the Christofides algorithm {status}\\n\"\n",
        "  # with open(\"/content/drive/MyDrive/Alg II/results.txt\", 'a') as file:\n",
        "  #   file.write(output + '\\n')"
      ]
    }
  ],
  "metadata": {
    "colab": {
      "collapsed_sections": [
        "kLx4pz6EVr6o"
      ],
      "provenance": []
    },
    "kernelspec": {
      "display_name": "Python 3.8.10 64-bit",
      "language": "python",
      "name": "python3"
    },
    "language_info": {
      "name": "python",
      "version": "3.8.10"
    },
    "vscode": {
      "interpreter": {
        "hash": "916dbcbb3f70747c44a77c7bcd40155683ae19c65e1c03b4aa3499c5328201f1"
      }
    }
  },
  "nbformat": 4,
  "nbformat_minor": 0
}
